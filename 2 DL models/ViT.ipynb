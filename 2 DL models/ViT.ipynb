{
 "cells": [
  {
   "cell_type": "markdown",
   "metadata": {},
   "source": [
    "Load image"
   ]
  },
  {
   "cell_type": "code",
   "execution_count": null,
   "metadata": {
    "execution": {
     "iopub.execute_input": "2024-12-07T03:25:07.568309Z",
     "iopub.status.busy": "2024-12-07T03:25:07.566543Z",
     "iopub.status.idle": "2024-12-07T03:25:21.521736Z",
     "shell.execute_reply": "2024-12-07T03:25:21.520795Z",
     "shell.execute_reply.started": "2024-12-07T03:25:07.568257Z"
    },
    "trusted": true
   },
   "outputs": [
    {
     "name": "stdout",
     "output_type": "stream",
     "text": [
      "Loaded 437 benign images.\n",
      "Loaded 420 malignant images.\n",
      "Loaded 399 normal images.\n"
     ]
    }
   ],
   "source": [
    "from PIL import Image\n",
    "import os\n",
    "import numpy as np\n",
    "\n",
    "# Load images from the three classes\n",
    "def load_images(folder_path):\n",
    "    images = []\n",
    "    for filename in os.listdir(folder_path):\n",
    "        if filename.endswith(\".png\"):\n",
    "            file_path = os.path.join(folder_path, filename)\n",
    "            try:\n",
    "                image = Image.open(file_path).convert(\"RGB\")  # Convert to RGB\n",
    "                image_array = np.array(image)\n",
    "                images.append(image_array)\n",
    "            except Exception as e:\n",
    "                print(f\"Error loading {filename}: {e}\")\n",
    "    return images\n",
    "\n",
    "# Paths to folders\n",
    "benign_path = os.path.join(\"Cleaned Breast Cancer Class\", \"benign\")\n",
    "malignant_path = os.path.join(\"Cleaned Breast Cancer Class\", \"malignant\")\n",
    "normal_path = os.path.join(\"Cleaned Breast Cancer Class\", \"normal\")\n",
    "\n",
    "# Load images\n",
    "benign_images = load_images(benign_path)\n",
    "malignant_images = load_images(malignant_path)\n",
    "normal_images = load_images(normal_path)\n",
    "\n",
    "# Print the counts\n",
    "print(f\"Loaded {len(benign_images)} benign images.\")\n",
    "print(f\"Loaded {len(malignant_images)} malignant images.\")\n",
    "print(f\"Loaded {len(normal_images)} normal images.\")\n"
   ]
  },
  {
   "cell_type": "code",
   "execution_count": 2,
   "metadata": {
    "execution": {
     "iopub.execute_input": "2024-12-07T03:25:21.523509Z",
     "iopub.status.busy": "2024-12-07T03:25:21.523246Z",
     "iopub.status.idle": "2024-12-07T03:25:26.330089Z",
     "shell.execute_reply": "2024-12-07T03:25:26.329102Z",
     "shell.execute_reply.started": "2024-12-07T03:25:21.523484Z"
    },
    "trusted": true
   },
   "outputs": [
    {
     "name": "stdout",
     "output_type": "stream",
     "text": [
      "Total images: 1256, Total labels: 1256\n"
     ]
    }
   ],
   "source": [
    "# Convert images to tensors\n",
    "import torch\n",
    "from torchvision import transforms\n",
    "\n",
    "transform = transforms.Compose([\n",
    "    transforms.ToTensor(),\n",
    "    transforms.Resize((224, 224)),  # Resize to 224x224 for ViT\n",
    "])\n",
    "\n",
    "benign_tensors = [transform(Image.fromarray(img)) for img in benign_images]\n",
    "malignant_tensors = [transform(Image.fromarray(img)) for img in malignant_images]\n",
    "normal_tensors = [transform(Image.fromarray(img)) for img in normal_images]\n",
    "\n",
    "# Create labels\n",
    "benign_labels = [0] * len(benign_tensors)\n",
    "malignant_labels = [1] * len(malignant_tensors)\n",
    "normal_labels = [2] * len(normal_tensors)\n",
    "\n",
    "# Combine tensors and labels\n",
    "all_images = benign_tensors + malignant_tensors + normal_tensors\n",
    "all_labels = benign_labels + malignant_labels + normal_labels\n",
    "\n",
    "print(f\"Total images: {len(all_images)}, Total labels: {len(all_labels)}\")\n"
   ]
  },
  {
   "cell_type": "markdown",
   "metadata": {},
   "source": [
    "Split into Train, Validation, and Test Sets"
   ]
  },
  {
   "cell_type": "code",
   "execution_count": 3,
   "metadata": {
    "execution": {
     "iopub.execute_input": "2024-12-07T03:25:26.331716Z",
     "iopub.status.busy": "2024-12-07T03:25:26.331300Z",
     "iopub.status.idle": "2024-12-07T03:25:27.015878Z",
     "shell.execute_reply": "2024-12-07T03:25:27.014794Z",
     "shell.execute_reply.started": "2024-12-07T03:25:26.331687Z"
    },
    "trusted": true
   },
   "outputs": [
    {
     "name": "stdout",
     "output_type": "stream",
     "text": [
      "Training set: 1004 images\n",
      "Validation set: 126 images\n",
      "Test set: 126 images\n"
     ]
    }
   ],
   "source": [
    "from sklearn.model_selection import train_test_split\n",
    "\n",
    "# Split into train (80%) and temp (20%)\n",
    "train_images, temp_images, train_labels, temp_labels = train_test_split(\n",
    "    all_images, all_labels, test_size=0.2, stratify=all_labels, random_state=42\n",
    ")\n",
    "\n",
    "# Split temp into validation (10%) and test (10%)\n",
    "val_images, test_images, val_labels, test_labels = train_test_split(\n",
    "    temp_images, temp_labels, test_size=0.5, stratify=temp_labels, random_state=42\n",
    ")\n",
    "\n",
    "print(f\"Training set: {len(train_images)} images\")\n",
    "print(f\"Validation set: {len(val_images)} images\")\n",
    "print(f\"Test set: {len(test_images)} images\")\n"
   ]
  },
  {
   "cell_type": "markdown",
   "metadata": {},
   "source": [
    "Create PyTorch DataLoaders"
   ]
  },
  {
   "cell_type": "code",
   "execution_count": 4,
   "metadata": {
    "execution": {
     "iopub.execute_input": "2024-12-07T03:25:27.018642Z",
     "iopub.status.busy": "2024-12-07T03:25:27.018195Z",
     "iopub.status.idle": "2024-12-07T03:25:27.026003Z",
     "shell.execute_reply": "2024-12-07T03:25:27.025153Z",
     "shell.execute_reply.started": "2024-12-07T03:25:27.018602Z"
    },
    "trusted": true
   },
   "outputs": [],
   "source": [
    "from torch.utils.data import DataLoader, Dataset\n",
    "\n",
    "class BreastCancerDataset(Dataset):\n",
    "    def __init__(self, images, labels):\n",
    "        self.images = images\n",
    "        self.labels = labels\n",
    "\n",
    "    def __len__(self):\n",
    "        return len(self.images)\n",
    "\n",
    "    def __getitem__(self, idx):\n",
    "        return self.images[idx], self.labels[idx]\n",
    "\n",
    "# Create datasets\n",
    "train_dataset = BreastCancerDataset(train_images, train_labels)\n",
    "val_dataset = BreastCancerDataset(val_images, val_labels)\n",
    "test_dataset = BreastCancerDataset(test_images, test_labels)\n",
    "\n",
    "# Create DataLoaders\n",
    "train_loader = DataLoader(train_dataset, batch_size=16, shuffle=True)\n",
    "val_loader = DataLoader(val_dataset, batch_size=16, shuffle=False)\n",
    "test_loader = DataLoader(test_dataset, batch_size=16, shuffle=False)\n"
   ]
  },
  {
   "cell_type": "markdown",
   "metadata": {},
   "source": [
    "Load Pretrained ViT Model"
   ]
  },
  {
   "cell_type": "code",
   "execution_count": 5,
   "metadata": {
    "execution": {
     "iopub.execute_input": "2024-12-07T03:25:27.027332Z",
     "iopub.status.busy": "2024-12-07T03:25:27.026997Z",
     "iopub.status.idle": "2024-12-07T03:25:42.347968Z",
     "shell.execute_reply": "2024-12-07T03:25:42.347099Z",
     "shell.execute_reply.started": "2024-12-07T03:25:27.027289Z"
    },
    "trusted": true
   },
   "outputs": [
    {
     "data": {
      "application/vnd.jupyter.widget-view+json": {
       "model_id": "9c7ce68958be4757b95c6cf71be8045c",
       "version_major": 2,
       "version_minor": 0
      },
      "text/plain": [
       "config.json:   0%|          | 0.00/502 [00:00<?, ?B/s]"
      ]
     },
     "metadata": {},
     "output_type": "display_data"
    },
    {
     "data": {
      "application/vnd.jupyter.widget-view+json": {
       "model_id": "09385dee2c724d149a5b1bfec8aefa36",
       "version_major": 2,
       "version_minor": 0
      },
      "text/plain": [
       "model.safetensors:   0%|          | 0.00/346M [00:00<?, ?B/s]"
      ]
     },
     "metadata": {},
     "output_type": "display_data"
    },
    {
     "name": "stderr",
     "output_type": "stream",
     "text": [
      "Some weights of ViTForImageClassification were not initialized from the model checkpoint at google/vit-base-patch16-224-in21k and are newly initialized: ['classifier.bias', 'classifier.weight']\n",
      "You should probably TRAIN this model on a down-stream task to be able to use it for predictions and inference.\n"
     ]
    },
    {
     "name": "stdout",
     "output_type": "stream",
     "text": [
      "Using device: cuda\n"
     ]
    }
   ],
   "source": [
    "from transformers import ViTForImageClassification\n",
    "\n",
    "# Load pretrained model\n",
    "model = ViTForImageClassification.from_pretrained(\n",
    "    \"google/vit-base-patch16-224-in21k\",\n",
    "    num_labels=3  # 3 classes: benign, malignant, normal\n",
    ")\n",
    "\n",
    "# Move model to device\n",
    "device = torch.device(\"cuda\" if torch.cuda.is_available() else \"cpu\")\n",
    "model.to(device)\n",
    "print(f\"Using device: {device}\")\n"
   ]
  },
  {
   "cell_type": "markdown",
   "metadata": {},
   "source": [
    "Define Optimizer and Loss Function"
   ]
  },
  {
   "cell_type": "code",
   "execution_count": 6,
   "metadata": {
    "execution": {
     "iopub.execute_input": "2024-12-07T03:25:42.349936Z",
     "iopub.status.busy": "2024-12-07T03:25:42.349254Z",
     "iopub.status.idle": "2024-12-07T03:25:42.355907Z",
     "shell.execute_reply": "2024-12-07T03:25:42.354841Z",
     "shell.execute_reply.started": "2024-12-07T03:25:42.349891Z"
    },
    "trusted": true
   },
   "outputs": [],
   "source": [
    "from torch.optim import AdamW\n",
    "from torch.nn import CrossEntropyLoss\n",
    "\n",
    "# Define optimizer and loss function\n",
    "optimizer = AdamW(model.parameters(), lr=5e-5)\n",
    "criterion = CrossEntropyLoss()\n"
   ]
  },
  {
   "cell_type": "markdown",
   "metadata": {},
   "source": [
    "Training and Validation Loop"
   ]
  },
  {
   "cell_type": "code",
   "execution_count": 7,
   "metadata": {
    "execution": {
     "iopub.execute_input": "2024-12-07T03:25:42.357757Z",
     "iopub.status.busy": "2024-12-07T03:25:42.357361Z",
     "iopub.status.idle": "2024-12-07T03:31:52.230447Z",
     "shell.execute_reply": "2024-12-07T03:31:52.229573Z",
     "shell.execute_reply.started": "2024-12-07T03:25:42.357712Z"
    },
    "trusted": true
   },
   "outputs": [
    {
     "name": "stderr",
     "output_type": "stream",
     "text": [
      "Epoch 1 - Training: 100%|██████████| 63/63 [00:32<00:00,  1.92it/s]\n",
      "Epoch 1 - Validation: 100%|██████████| 8/8 [00:01<00:00,  5.98it/s]\n"
     ]
    },
    {
     "name": "stdout",
     "output_type": "stream",
     "text": [
      "Epoch 1 - Train Loss: 0.7370, Train Acc: 0.7122\n",
      "Epoch 1 - Val Loss: 0.4091, Val Acc: 0.8730\n"
     ]
    },
    {
     "name": "stderr",
     "output_type": "stream",
     "text": [
      "Epoch 2 - Training: 100%|██████████| 63/63 [00:33<00:00,  1.89it/s]\n",
      "Epoch 2 - Validation: 100%|██████████| 8/8 [00:01<00:00,  5.73it/s]\n"
     ]
    },
    {
     "name": "stdout",
     "output_type": "stream",
     "text": [
      "Epoch 2 - Train Loss: 0.3181, Train Acc: 0.9004\n",
      "Epoch 2 - Val Loss: 0.5380, Val Acc: 0.8175\n"
     ]
    },
    {
     "name": "stderr",
     "output_type": "stream",
     "text": [
      "Epoch 3 - Training: 100%|██████████| 63/63 [00:35<00:00,  1.79it/s]\n",
      "Epoch 3 - Validation: 100%|██████████| 8/8 [00:01<00:00,  5.16it/s]\n"
     ]
    },
    {
     "name": "stdout",
     "output_type": "stream",
     "text": [
      "Epoch 3 - Train Loss: 0.1826, Train Acc: 0.9522\n",
      "Epoch 3 - Val Loss: 0.4316, Val Acc: 0.8730\n"
     ]
    },
    {
     "name": "stderr",
     "output_type": "stream",
     "text": [
      "Epoch 4 - Training: 100%|██████████| 63/63 [00:36<00:00,  1.71it/s]\n",
      "Epoch 4 - Validation: 100%|██████████| 8/8 [00:01<00:00,  5.29it/s]\n"
     ]
    },
    {
     "name": "stdout",
     "output_type": "stream",
     "text": [
      "Epoch 4 - Train Loss: 0.0880, Train Acc: 0.9841\n",
      "Epoch 4 - Val Loss: 0.1928, Val Acc: 0.9365\n"
     ]
    },
    {
     "name": "stderr",
     "output_type": "stream",
     "text": [
      "Epoch 5 - Training: 100%|██████████| 63/63 [00:35<00:00,  1.76it/s]\n",
      "Epoch 5 - Validation: 100%|██████████| 8/8 [00:01<00:00,  5.27it/s]\n"
     ]
    },
    {
     "name": "stdout",
     "output_type": "stream",
     "text": [
      "Epoch 5 - Train Loss: 0.0676, Train Acc: 0.9871\n",
      "Epoch 5 - Val Loss: 0.3326, Val Acc: 0.8968\n"
     ]
    },
    {
     "name": "stderr",
     "output_type": "stream",
     "text": [
      "Epoch 6 - Training: 100%|██████████| 63/63 [00:36<00:00,  1.73it/s]\n",
      "Epoch 6 - Validation: 100%|██████████| 8/8 [00:01<00:00,  5.26it/s]\n"
     ]
    },
    {
     "name": "stdout",
     "output_type": "stream",
     "text": [
      "Epoch 6 - Train Loss: 0.0621, Train Acc: 0.9910\n",
      "Epoch 6 - Val Loss: 0.2569, Val Acc: 0.9286\n"
     ]
    },
    {
     "name": "stderr",
     "output_type": "stream",
     "text": [
      "Epoch 7 - Training: 100%|██████████| 63/63 [00:36<00:00,  1.75it/s]\n",
      "Epoch 7 - Validation: 100%|██████████| 8/8 [00:01<00:00,  5.31it/s]\n"
     ]
    },
    {
     "name": "stdout",
     "output_type": "stream",
     "text": [
      "Epoch 7 - Train Loss: 0.1039, Train Acc: 0.9721\n",
      "Epoch 7 - Val Loss: 0.3593, Val Acc: 0.8968\n"
     ]
    },
    {
     "name": "stderr",
     "output_type": "stream",
     "text": [
      "Epoch 8 - Training: 100%|██████████| 63/63 [00:36<00:00,  1.75it/s]\n",
      "Epoch 8 - Validation: 100%|██████████| 8/8 [00:01<00:00,  5.29it/s]\n"
     ]
    },
    {
     "name": "stdout",
     "output_type": "stream",
     "text": [
      "Epoch 8 - Train Loss: 0.0467, Train Acc: 0.9880\n",
      "Epoch 8 - Val Loss: 0.2188, Val Acc: 0.9365\n"
     ]
    },
    {
     "name": "stderr",
     "output_type": "stream",
     "text": [
      "Epoch 9 - Training: 100%|██████████| 63/63 [00:36<00:00,  1.74it/s]\n",
      "Epoch 9 - Validation: 100%|██████████| 8/8 [00:01<00:00,  5.27it/s]\n"
     ]
    },
    {
     "name": "stdout",
     "output_type": "stream",
     "text": [
      "Epoch 9 - Train Loss: 0.0501, Train Acc: 0.9890\n",
      "Epoch 9 - Val Loss: 0.2682, Val Acc: 0.9286\n"
     ]
    },
    {
     "name": "stderr",
     "output_type": "stream",
     "text": [
      "Epoch 10 - Training: 100%|██████████| 63/63 [00:36<00:00,  1.74it/s]\n",
      "Epoch 10 - Validation: 100%|██████████| 8/8 [00:01<00:00,  5.25it/s]"
     ]
    },
    {
     "name": "stdout",
     "output_type": "stream",
     "text": [
      "Epoch 10 - Train Loss: 0.0362, Train Acc: 0.9940\n",
      "Epoch 10 - Val Loss: 0.2402, Val Acc: 0.9524\n"
     ]
    },
    {
     "name": "stderr",
     "output_type": "stream",
     "text": [
      "\n"
     ]
    }
   ],
   "source": [
    "from tqdm import tqdm\n",
    "\n",
    "# Training loop\n",
    "num_epochs = 10\n",
    "train_losses, val_losses = [], []\n",
    "train_accuracies, val_accuracies = [], []\n",
    "\n",
    "for epoch in range(num_epochs):\n",
    "    # Training phase\n",
    "    model.train()\n",
    "    train_loss, correct, total = 0, 0, 0\n",
    "    for images, labels in tqdm(train_loader, desc=f\"Epoch {epoch + 1} - Training\"):\n",
    "        images, labels = images.to(device), labels.to(device)  # No torch.stack needed\n",
    "        optimizer.zero_grad()\n",
    "\n",
    "        # Forward pass\n",
    "        outputs = model(images)\n",
    "        loss = criterion(outputs.logits, labels)\n",
    "        train_loss += loss.item()\n",
    "\n",
    "        # Backward pass\n",
    "        loss.backward()\n",
    "        optimizer.step()\n",
    "\n",
    "        # Compute accuracy\n",
    "        preds = outputs.logits.argmax(dim=1)\n",
    "        correct += (preds == labels).sum().item()\n",
    "        total += labels.size(0)\n",
    "\n",
    "    train_losses.append(train_loss / len(train_loader))\n",
    "    train_accuracies.append(correct / total)\n",
    "\n",
    "    # Validation phase\n",
    "    model.eval()\n",
    "    val_loss, correct, total = 0, 0, 0\n",
    "    with torch.no_grad():\n",
    "        for images, labels in tqdm(val_loader, desc=f\"Epoch {epoch + 1} - Validation\"):\n",
    "            images, labels = images.to(device), labels.to(device)\n",
    "\n",
    "            # Forward pass\n",
    "            outputs = model(images)\n",
    "            loss = criterion(outputs.logits, labels)\n",
    "            val_loss += loss.item()\n",
    "\n",
    "            # Compute accuracy\n",
    "            preds = outputs.logits.argmax(dim=1)\n",
    "            correct += (preds == labels).sum().item()\n",
    "            total += labels.size(0)\n",
    "\n",
    "    val_losses.append(val_loss / len(val_loader))\n",
    "    val_accuracies.append(correct / total)\n",
    "\n",
    "    print(f\"Epoch {epoch + 1} - Train Loss: {train_losses[-1]:.4f}, Train Acc: {train_accuracies[-1]:.4f}\")\n",
    "    print(f\"Epoch {epoch + 1} - Val Loss: {val_losses[-1]:.4f}, Val Acc: {val_accuracies[-1]:.4f}\")\n"
   ]
  },
  {
   "cell_type": "markdown",
   "metadata": {},
   "source": [
    "Evaluate on Test Set"
   ]
  },
  {
   "cell_type": "code",
   "execution_count": 8,
   "metadata": {
    "execution": {
     "iopub.execute_input": "2024-12-07T03:31:52.231832Z",
     "iopub.status.busy": "2024-12-07T03:31:52.231555Z",
     "iopub.status.idle": "2024-12-07T03:31:53.764393Z",
     "shell.execute_reply": "2024-12-07T03:31:53.763423Z",
     "shell.execute_reply.started": "2024-12-07T03:31:52.231806Z"
    },
    "trusted": true
   },
   "outputs": [
    {
     "name": "stderr",
     "output_type": "stream",
     "text": [
      "Testing: 100%|██████████| 8/8 [00:01<00:00,  5.25it/s]"
     ]
    },
    {
     "name": "stdout",
     "output_type": "stream",
     "text": [
      "Test Loss: 0.3580, Test Accuracy: 0.9206\n"
     ]
    },
    {
     "name": "stderr",
     "output_type": "stream",
     "text": [
      "\n"
     ]
    }
   ],
   "source": [
    "# Testing phase\n",
    "model.eval()\n",
    "test_loss, correct, total = 0, 0, 0\n",
    "with torch.no_grad():\n",
    "    for images, labels in tqdm(test_loader, desc=\"Testing\"):\n",
    "        images, labels = images.to(device), labels.to(device)  # No torch.stack needed\n",
    "\n",
    "        # Forward pass\n",
    "        outputs = model(images)\n",
    "        loss = criterion(outputs.logits, labels)\n",
    "        test_loss += loss.item()\n",
    "\n",
    "        # Compute accuracy\n",
    "        preds = outputs.logits.argmax(dim=1)\n",
    "        correct += (preds == labels).sum().item()\n",
    "        total += labels.size(0)\n",
    "\n",
    "test_accuracy = correct / total\n",
    "print(f\"Test Loss: {test_loss / len(test_loader):.4f}, Test Accuracy: {test_accuracy:.4f}\")\n"
   ]
  },
  {
   "cell_type": "code",
   "execution_count": 14,
   "metadata": {
    "execution": {
     "iopub.execute_input": "2024-12-07T03:34:07.721237Z",
     "iopub.status.busy": "2024-12-07T03:34:07.720563Z",
     "iopub.status.idle": "2024-12-07T03:34:09.437840Z",
     "shell.execute_reply": "2024-12-07T03:34:09.436928Z",
     "shell.execute_reply.started": "2024-12-07T03:34:07.721204Z"
    },
    "trusted": true
   },
   "outputs": [
    {
     "name": "stderr",
     "output_type": "stream",
     "text": [
      "Generating Predictions: 100%|██████████| 8/8 [00:01<00:00,  5.53it/s]\n"
     ]
    },
    {
     "name": "stdout",
     "output_type": "stream",
     "text": [
      "Classification Report:\n",
      "              precision    recall  f1-score   support\n",
      "\n",
      "           0     0.9286    0.8864    0.9070        44\n",
      "           1     0.9500    0.9048    0.9268        42\n",
      "           2     0.8864    0.9750    0.9286        40\n",
      "\n",
      "    accuracy                         0.9206       126\n",
      "   macro avg     0.9216    0.9220    0.9208       126\n",
      "weighted avg     0.9223    0.9206    0.9204       126\n",
      "\n"
     ]
    },
    {
     "data": {
      "image/png": "[encoded data removed]",
      "text/plain": [
       "<Figure size 640x480 with 2 Axes>"
      ]
     },
     "metadata": {},
     "output_type": "display_data"
    }
   ],
   "source": [
    "from sklearn.metrics import classification_report, confusion_matrix, ConfusionMatrixDisplay\n",
    "import matplotlib.pyplot as plt\n",
    "\n",
    "# Initialize arrays to store true and predicted labels\n",
    "all_labels, all_preds = [], []\n",
    "\n",
    "# Model in evaluation mode\n",
    "model.eval()\n",
    "with torch.no_grad():\n",
    "    for images, labels in tqdm(test_loader, desc=\"Generating Predictions\"):\n",
    "        images, labels = images.to(device), labels.to(device)\n",
    "\n",
    "        # Forward pass and predictions\n",
    "        outputs = model(images)\n",
    "        preds = outputs.logits.argmax(dim=1)\n",
    "\n",
    "        # Collect true labels and predictions\n",
    "        all_labels.extend(labels.cpu().numpy())\n",
    "        all_preds.extend(preds.cpu().numpy())\n",
    "\n",
    "# Classification report\n",
    "print(\"Classification Report:\")\n",
    "print(classification_report(all_labels, all_preds, digits=4))\n",
    "\n",
    "# Confusion matrix\n",
    "cm = confusion_matrix(all_labels, all_preds)\n",
    "\n",
    "# Visualization of confusion matrix\n",
    "disp = ConfusionMatrixDisplay(confusion_matrix=cm, display_labels=range(len(cm)))\n",
    "disp.plot(cmap=plt.cm.Blues, values_format='d')\n",
    "plt.title(\"Confusion Matrix\")\n",
    "plt.show()\n"
   ]
  },
  {
   "cell_type": "code",
   "execution_count": 10,
   "metadata": {
    "execution": {
     "iopub.execute_input": "2024-12-07T03:31:55.592567Z",
     "iopub.status.busy": "2024-12-07T03:31:55.592215Z",
     "iopub.status.idle": "2024-12-07T03:31:56.111153Z",
     "shell.execute_reply": "2024-12-07T03:31:56.110270Z",
     "shell.execute_reply.started": "2024-12-07T03:31:55.592529Z"
    },
    "trusted": true
   },
   "outputs": [
    {
     "data": {
      "image/png": "[encoded data removed]",
      "text/plain": [
       "<Figure size 1000x500 with 1 Axes>"
      ]
     },
     "metadata": {},
     "output_type": "display_data"
    },
    {
     "data": {
      "image/png": "[encoded data removed]",
      "text/plain": [
       "<Figure size 1000x500 with 1 Axes>"
      ]
     },
     "metadata": {},
     "output_type": "display_data"
    }
   ],
   "source": [
    "import matplotlib.pyplot as plt\n",
    "\n",
    "# Plot losses\n",
    "plt.figure(figsize=(10, 5))\n",
    "plt.plot(train_losses, label=\"Train Loss\")\n",
    "plt.plot(val_losses, label=\"Validation Loss\")\n",
    "plt.xlabel(\"Epochs\")\n",
    "plt.ylabel(\"Loss\")\n",
    "plt.legend()\n",
    "plt.title(\"Loss Curve\")\n",
    "plt.show()\n",
    "\n",
    "# Plot accuracies\n",
    "plt.figure(figsize=(10, 5))\n",
    "plt.plot(train_accuracies, label=\"Train Accuracy\")\n",
    "plt.plot(val_accuracies, label=\"Validation Accuracy\")\n",
    "plt.xlabel(\"Epochs\")\n",
    "plt.ylabel(\"Accuracy\")\n",
    "plt.legend()\n",
    "plt.title(\"Accuracy Curve\")\n",
    "plt.show()\n"
   ]
  },
  {
   "cell_type": "code",
   "execution_count": 11,
   "metadata": {
    "execution": {
     "iopub.execute_input": "2024-12-07T03:31:56.112339Z",
     "iopub.status.busy": "2024-12-07T03:31:56.112105Z",
     "iopub.status.idle": "2024-12-07T03:31:56.543244Z",
     "shell.execute_reply": "2024-12-07T03:31:56.542305Z",
     "shell.execute_reply.started": "2024-12-07T03:31:56.112315Z"
    },
    "trusted": true
   },
   "outputs": [
    {
     "name": "stdout",
     "output_type": "stream",
     "text": [
      "Model saved to vit_breast_cancer_model.pth\n"
     ]
    }
   ],
   "source": [
    "# Save the model\n",
    "model_save_path = \"vit_breast_cancer_model.pth\"\n",
    "torch.save(model.state_dict(), model_save_path)\n",
    "print(f\"Model saved to {model_save_path}\")\n"
   ]
  },
  {
   "cell_type": "markdown",
   "metadata": {},
   "source": [
    "Test Unseen image"
   ]
  },
  {
   "cell_type": "code",
   "execution_count": null,
   "metadata": {
    "execution": {
     "iopub.execute_input": "2024-12-07T03:31:56.544523Z",
     "iopub.status.busy": "2024-12-07T03:31:56.544278Z",
     "iopub.status.idle": "2024-12-07T03:31:57.284201Z",
     "shell.execute_reply": "2024-12-07T03:31:57.283265Z",
     "shell.execute_reply.started": "2024-12-07T03:31:56.544500Z"
    },
    "trusted": true
   },
   "outputs": [
    {
     "name": "stderr",
     "output_type": "stream",
     "text": [
      "C:\\Users\\Joe Chok\\AppData\\Roaming\\Python\\Python312\\site-packages\\tqdm\\auto.py:21: TqdmWarning: IProgress not found. Please update jupyter and ipywidgets. See https://ipywidgets.readthedocs.io/en/stable/user_install.html\n",
      "  from .autonotebook import tqdm as notebook_tqdm\n",
      "Some weights of ViTForImageClassification were not initialized from the model checkpoint at google/vit-base-patch16-224-in21k and are newly initialized: ['classifier.bias', 'classifier.weight']\n",
      "You should probably TRAIN this model on a down-stream task to be able to use it for predictions and inference.\n",
      "C:\\Users\\Joe Chok\\AppData\\Local\\Temp\\ipykernel_18368\\2910987007.py:15: FutureWarning: You are using `torch.load` with `weights_only=False` (the current default value), which uses the default pickle module implicitly. It is possible to construct malicious pickle data which will execute arbitrary code during unpickling (See https://github.com/pytorch/pytorch/blob/main/SECURITY.md#untrusted-models for more details). In a future release, the default value for `weights_only` will be flipped to `True`. This limits the functions that could be executed during unpickling. Arbitrary objects will no longer be allowed to be loaded via this mode unless they are explicitly allowlisted by the user via `torch.serialization.add_safe_globals`. We recommend you start setting `weights_only=True` for any use case where you don't have full control of the loaded file. Please open an issue on GitHub for any issues related to this experimental feature.\n",
      "  loaded_model.load_state_dict(torch.load(model_save_path, map_location=torch.device('cpu')))\n"
     ]
    },
    {
     "name": "stdout",
     "output_type": "stream",
     "text": [
      "Model loaded successfully.\n"
     ]
    }
   ],
   "source": [
    "# from transformers import AutoModelForImageClassification\n",
    "# import torch\n",
    "\n",
    "# # Define the model checkpoint if not already defined\n",
    "# model_checkpoint = \"google/vit-base-patch16-224-in21k\"\n",
    "# model_save_path = 'vit_breast_cancer_model.pth'\n",
    "\n",
    "# # Load the model\n",
    "# loaded_model = AutoModelForImageClassification.from_pretrained(\n",
    "#     model_checkpoint, num_labels=3\n",
    "# )\n",
    "\n",
    "# # Load the saved weights\n",
    "# # loaded_model.load_state_dict(torch.load(model_save_path))\n",
    "# loaded_model.load_state_dict(torch.load(model_save_path, map_location=torch.device('cpu')))\n",
    "# loaded_model.eval()\n",
    "# print(\"Model loaded successfully.\")\n"
   ]
  },
  {
   "cell_type": "code",
   "execution_count": null,
   "metadata": {
    "execution": {
     "iopub.execute_input": "2024-12-07T03:31:57.286173Z",
     "iopub.status.busy": "2024-12-07T03:31:57.285415Z",
     "iopub.status.idle": "2024-12-07T03:31:58.285990Z",
     "shell.execute_reply": "2024-12-07T03:31:58.284863Z",
     "shell.execute_reply.started": "2024-12-07T03:31:57.286130Z"
    },
    "trusted": true
   },
   "outputs": [
    {
     "name": "stdout",
     "output_type": "stream",
     "text": [
      "Predicted Class: normal\n"
     ]
    }
   ],
   "source": [
    "# from torchvision import transforms\n",
    "# from PIL import Image  # Import the Image class\n",
    "# import torch\n",
    "\n",
    "# # Define the image preprocessing pipeline\n",
    "# image_transforms = transforms.Compose([\n",
    "#     transforms.Resize((224, 224)),  # Resize to model's input size\n",
    "#     transforms.ToTensor(),         # Convert image to tensor\n",
    "#     transforms.Normalize(mean=[0.5, 0.5, 0.5], std=[0.5, 0.5, 0.5])  # Normalize image\n",
    "# ])\n",
    "\n",
    "# # Load an unseen image\n",
    "# unseen_image_path = \"test normal.jpg\"\n",
    "# image = Image.open(unseen_image_path).convert(\"RGB\")  # Ensure it's RGB\n",
    "# image_tensor = image_transforms(image).unsqueeze(0)  # Add batch dimension\n",
    "\n",
    "# # Predict\n",
    "# with torch.no_grad():\n",
    "#     outputs = loaded_model(image_tensor)\n",
    "#     predicted_class = outputs.logits.argmax(dim=1).item()\n",
    "\n",
    "# # Class mapping\n",
    "# class_names = [\"benign\", \"malignant\", \"normal\"]  # Update based on your dataset\n",
    "# print(f\"Predicted Class: {class_names[predicted_class]}\")\n"
   ]
  }
 ],
 "metadata": {
  "kaggle": {
   "accelerator": "nvidiaTeslaT4",
   "dataSources": [
    {
     "datasetId": 6232365,
     "sourceId": 10103981,
     "sourceType": "datasetVersion"
    }
   ],
   "dockerImageVersionId": 30805,
   "isGpuEnabled": true,
   "isInternetEnabled": true,
   "language": "python",
   "sourceType": "notebook"
  },
  "kernelspec": {
   "display_name": "dlmodels",
   "language": "python",
   "name": "python3"
  },
  "language_info": {
   "codemirror_mode": {
    "name": "ipython",
    "version": 3
   },
   "file_extension": ".py",
   "mimetype": "text/x-python",
   "name": "python",
   "nbconvert_exporter": "python",
   "pygments_lexer": "ipython3",
   "version": "3.12.7"
  }
 },
 "nbformat": 4,
 "nbformat_minor": 4
}
